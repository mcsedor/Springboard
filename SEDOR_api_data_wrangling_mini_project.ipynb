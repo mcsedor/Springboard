{
 "cells": [
  {
   "cell_type": "markdown",
   "metadata": {},
   "source": [
    "This exercise will require you to pull some data from the Qunadl API. Qaundl is currently the most widely used aggregator of financial market data."
   ]
  },
  {
   "cell_type": "markdown",
   "metadata": {},
   "source": [
    "As a first step, you will need to register a free account on the http://www.quandl.com website."
   ]
  },
  {
   "cell_type": "markdown",
   "metadata": {},
   "source": [
    "After you register, you will be provided with a unique API key, that you should store:"
   ]
  },
  {
   "cell_type": "code",
   "execution_count": 30,
   "metadata": {},
   "outputs": [],
   "source": [
    "# Store the API key as a string - according to PEP8, constants are always named in all upper case\n",
    "API_KEY = ''"
   ]
  },
  {
   "cell_type": "markdown",
   "metadata": {},
   "source": [
    "Qaundl has a large number of data sources, but, unfortunately, most of them require a Premium subscription. Still, there are also a good number of free datasets."
   ]
  },
  {
   "cell_type": "markdown",
   "metadata": {},
   "source": [
    "For this mini project, we will focus on equities data from the Frankfurt Stock Exhange (FSE), which is available for free. We'll try and analyze the stock prices of a company called Carl Zeiss Meditec, which manufactures tools for eye examinations, as well as medical lasers for laser eye surgery: https://www.zeiss.com/meditec/int/home.html. The company is listed under the stock ticker AFX_X."
   ]
  },
  {
   "cell_type": "markdown",
   "metadata": {},
   "source": [
    "You can find the detailed Quandl API instructions here: https://docs.quandl.com/docs/time-series"
   ]
  },
  {
   "cell_type": "markdown",
   "metadata": {},
   "source": [
    "While there is a dedicated Python package for connecting to the Quandl API, we would prefer that you use the *requests* package, which can be easily downloaded using *pip* or *conda*. You can find the documentation for the package here: http://docs.python-requests.org/en/master/ "
   ]
  },
  {
   "cell_type": "markdown",
   "metadata": {},
   "source": [
    "Finally, apart from the *requests* package, you are encouraged to not use any third party Python packages, such as *pandas*, and instead focus on what's available in the Python Standard Library (the *collections* module might come in handy: https://pymotw.com/3/collections/ ).\n",
    "Also, since you won't have access to DataFrames, you are encouraged to us Python's native data structures - preferably dictionaries, though some questions can also be answered using lists.\n",
    "You can read more on these data structures here: https://docs.python.org/3/tutorial/datastructures.html"
   ]
  },
  {
   "cell_type": "markdown",
   "metadata": {},
   "source": [
    "Keep in mind that the JSON responses you will be getting from the API map almost one-to-one to Python's dictionaries. Unfortunately, they can be very nested, so make sure you read up on indexing dictionaries in the documentation provided above."
   ]
  },
  {
   "cell_type": "code",
   "execution_count": 28,
   "metadata": {},
   "outputs": [],
   "source": [
    "# First, import the relevant modules\n",
    "import requests\n",
    "import numpy as np\n"
   ]
  },
  {
   "cell_type": "code",
   "execution_count": 29,
   "metadata": {},
   "outputs": [],
   "source": [
    "# Now, call the Quandl API and pull out a small sample of the data (only one day) to get a glimpse\n",
    "# into the JSON structure that will be returned\n",
    "\n",
    "r = requests.get('https://www.quandl.com/api/v3/datasets/FSE/AFX_X/data.json?start_date=2017-01-01&end_date=2017-01-02&api_key=API_KEY')\n",
    "\n"
   ]
  },
  {
   "cell_type": "code",
   "execution_count": 30,
   "metadata": {},
   "outputs": [
    {
     "name": "stdout",
     "output_type": "stream",
     "text": [
      "{'dataset_data': {'limit': None, 'transform': None, 'column_index': None, 'column_names': ['Date', 'Open', 'High', 'Low', 'Close', 'Change', 'Traded Volume', 'Turnover', 'Last Price of the Day', 'Daily Traded Units', 'Daily Turnover'], 'start_date': '2017-01-01', 'end_date': '2017-01-02', 'frequency': 'daily', 'data': [['2017-01-02', 34.99, 35.94, 34.99, 35.8, None, 44700.0, 1590561.0, None, None, None]], 'collapse': None, 'order': None}}\n",
      "\n",
      "\n",
      "['2017-01-02', 34.99, 35.94, 34.99, 35.8, None, 44700.0, 1590561.0, None, None, None]\n"
     ]
    }
   ],
   "source": [
    "# Inspect the JSON structure of the object you created, and take note of how nested it is,\n",
    "# as well as the overall structure\n",
    "\n",
    "#Print the full JSON data object for the selected date\n",
    "print(r.json())\n",
    "print('\\n')\n",
    "\n",
    "#Print the data by calling the correct dictionary key. Used indexing to select unpack the nested list. \n",
    "print(r.json()['dataset_data']['data'][0])"
   ]
  },
  {
   "cell_type": "markdown",
   "metadata": {},
   "source": [
    "These are your tasks for this mini project:\n",
    "\n",
    "1. Collect data from the Franfurt Stock Exchange, for the ticker AFX_X, for the whole year 2017 (keep in mind that the date format is YYYY-MM-DD).\n",
    "2. Convert the returned JSON object into a Python dictionary.\n",
    "3. Calculate what the highest and lowest opening prices were for the stock in this period.\n",
    "4. What was the largest change in any one day (based on High and Low price)?\n",
    "5. What was the largest change between any two days (based on Closing Price)?\n",
    "6. What was the average daily trading volume during this year?\n",
    "7. (Optional) What was the median trading volume during this year. (Note: you may need to implement your own function for calculating the median.)"
   ]
  },
  {
   "cell_type": "markdown",
   "metadata": {
    "collapsed": true
   },
   "source": [
    "### Question 1"
   ]
  },
  {
   "cell_type": "code",
   "execution_count": 31,
   "metadata": {},
   "outputs": [],
   "source": [
    "#Call the API using start/end dates for 2017\n",
    "r_17 = requests.get('https://www.quandl.com/api/v3/datasets/FSE/AFX_X/data.json?start_date=2017-01-01&end_date=2017-12-31&api_key=API_KEY')\n",
    "\n",
    "#Check that the data and structure is identical to the practice example \n",
    "#print(r_17.json()['dataset_data']['data'])"
   ]
  },
  {
   "cell_type": "markdown",
   "metadata": {},
   "source": [
    "### Question 2"
   ]
  },
  {
   "cell_type": "code",
   "execution_count": 32,
   "metadata": {},
   "outputs": [
    {
     "name": "stdout",
     "output_type": "stream",
     "text": [
      "<class 'dict'>\n"
     ]
    }
   ],
   "source": [
    "#Convert JSON array using dict()\n",
    "afx_dict = dict(r_17.json())\n",
    "\n",
    "#Check data type to confirm\n",
    "print(type(afx_dict))"
   ]
  },
  {
   "cell_type": "markdown",
   "metadata": {},
   "source": [
    "### Question 3"
   ]
  },
  {
   "cell_type": "code",
   "execution_count": 33,
   "metadata": {},
   "outputs": [
    {
     "name": "stdout",
     "output_type": "stream",
     "text": [
      "The maximum opening price in 2017 was: $ 53.11\n",
      "The minimum opening price in 2017 was: $ 34.0\n"
     ]
    }
   ],
   "source": [
    "#Extract 'column_names' from JSON object to determine index of 'Open' data\n",
    "column_names = afx_dict['dataset_data']['column_names']\n",
    "#print(column_names)\n",
    "\n",
    "#Open is the second item in each nested list within the 'data' dictionary\n",
    "\n",
    "#Extract 'data' lists to iterate over\n",
    "stock_data = afx_dict['dataset_data']['data']\n",
    "#print(stock_data)\n",
    "\n",
    "#Create empty list to store 'Open' data\n",
    "opening_prices = []\n",
    "\n",
    "#Iterate over stock_data and select 'Open' value from each. Do not append NoneType values. \n",
    "for i in stock_data:\n",
    "    if i[1] != None:\n",
    "        opening_prices.append(i[1])\n",
    "\n",
    "#Select the max and min opening price values and print the result\n",
    "print('The maximum opening price in 2017 was: $',max(opening_prices))\n",
    "print('The minimum opening price in 2017 was: $',min(opening_prices))"
   ]
  },
  {
   "cell_type": "markdown",
   "metadata": {},
   "source": [
    "### Question 4"
   ]
  },
  {
   "cell_type": "code",
   "execution_count": 34,
   "metadata": {},
   "outputs": [
    {
     "name": "stdout",
     "output_type": "stream",
     "text": [
      "The largest single-day change in price during 2017 was: $ 2.81\n"
     ]
    }
   ],
   "source": [
    "#Create empty list\n",
    "stock_data_dicts = []\n",
    "\n",
    "#Create list of dictionaries matching column names to corresponding values\n",
    "for day in stock_data:\n",
    "    day_dict = dict(zip(column_names, day))\n",
    "    stock_data_dicts.append(day_dict)\n",
    "    \n",
    "#Create empty list to store open/close differentials\n",
    "daily_diff = []\n",
    "\n",
    "#Subtract low price from high price for each day\n",
    "for day in stock_data_dicts:\n",
    "    if day['High'] != None and day['Low'] != None:\n",
    "        daily_diff.append(day['High'] - day['Low'])\n",
    "\n",
    "#Print the max value from the daily_diff list\n",
    "print('The largest single-day change in price during 2017 was: $',round(max(daily_diff),2))\n",
    "    "
   ]
  },
  {
   "cell_type": "markdown",
   "metadata": {},
   "source": [
    "### Question 5"
   ]
  },
  {
   "cell_type": "code",
   "execution_count": 35,
   "metadata": {},
   "outputs": [
    {
     "name": "stdout",
     "output_type": "stream",
     "text": [
      "The largest difference in closing price between two days in 2017 was: $ 2.56\n"
     ]
    }
   ],
   "source": [
    "#Create an empty list for the one-day closing price differences\n",
    "one_day_diff = []\n",
    "\n",
    "#Create a for loop with range() to subtract each day's closing price from that of the preceding day's. \n",
    "for idx,day in enumerate(stock_data_dicts):\n",
    "    if idx != 0:\n",
    "        one_day_diff.append(abs(stock_data_dicts[idx]['Close'] - stock_data_dicts[idx-1]['Close']))\n",
    "\n",
    "#Print the result\n",
    "print('The largest difference in closing price between two days in 2017 was: $',round(max(one_day_diff),2))"
   ]
  },
  {
   "cell_type": "markdown",
   "metadata": {},
   "source": [
    "### Question 6"
   ]
  },
  {
   "cell_type": "code",
   "execution_count": 36,
   "metadata": {},
   "outputs": [
    {
     "name": "stdout",
     "output_type": "stream",
     "text": [
      "The average daily trading volume in 2017 was:  89124.34\n"
     ]
    }
   ],
   "source": [
    "#Create an empty list for daily Trading Volume values\n",
    "volume_list = []\n",
    "\n",
    "#Append the Trading Volume value from each day to the volume_list\n",
    "for i in stock_data_dicts:\n",
    "    volume_list.append(i['Traded Volume'])\n",
    "\n",
    "#Calculate the mean (sum divided by number of values) and print the result\n",
    "print('The average daily trading volume in 2017 was: ',round(sum(volume_list)/len(volume_list),2))"
   ]
  },
  {
   "cell_type": "markdown",
   "metadata": {},
   "source": [
    "### Question 7"
   ]
  },
  {
   "cell_type": "code",
   "execution_count": 37,
   "metadata": {},
   "outputs": [
    {
     "name": "stdout",
     "output_type": "stream",
     "text": [
      "The median trading volume in 2017 was : 76286\n"
     ]
    }
   ],
   "source": [
    "#Sort the volume list in ascending order (default)\n",
    "volume_list = sorted(volume_list)\n",
    "\n",
    "#Find the length of the list to determine the middle (median) value\n",
    "l = len(volume_list)\n",
    "\n",
    "#Calculate the middle length index (for odd number of values)\n",
    "median_index = int((l+1)/2) - 1\n",
    "#print(median_index)\n",
    "\n",
    "#Use calculated index to extract median value\n",
    "median = round(volume_list[median_index])\n",
    "\n",
    "#Print the result\n",
    "print('The median trading volume in 2017 was :',median)"
   ]
  },
  {
   "cell_type": "code",
   "execution_count": null,
   "metadata": {},
   "outputs": [],
   "source": []
  }
 ],
 "metadata": {
  "kernelspec": {
   "display_name": "Python 3",
   "language": "python",
   "name": "python3"
  },
  "language_info": {
   "codemirror_mode": {
    "name": "ipython",
    "version": 3
   },
   "file_extension": ".py",
   "mimetype": "text/x-python",
   "name": "python",
   "nbconvert_exporter": "python",
   "pygments_lexer": "ipython3",
   "version": "3.7.1"
  }
 },
 "nbformat": 4,
 "nbformat_minor": 2
}
