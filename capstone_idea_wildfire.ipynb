{
 "cells": [
  {
   "cell_type": "code",
   "execution_count": 18,
   "metadata": {},
   "outputs": [
    {
     "name": "stdout",
     "output_type": "stream",
     "text": [
      "Opened Database Successfully\n"
     ]
    }
   ],
   "source": [
    "import pandas as pd\n",
    "import sqlite3\n",
    "import matplotlib.pyplot as plt\n",
    "import seaborn as sns\n",
    "\n",
    "#file = 'Users/admin/Desktop/Springboard/FPA_FOD_20170508.sqlite'\n",
    "con = sqlite3.connect('FPA_FOD_20170508.sqlite')\n",
    "cursor = con.cursor()\n",
    "print('Opened Database Successfully')"
   ]
  },
  {
   "cell_type": "code",
   "execution_count": 19,
   "metadata": {},
   "outputs": [
    {
     "name": "stdout",
     "output_type": "stream",
     "text": [
      "['spatial_ref_sys', 'spatialite_history', 'sqlite_sequence', 'geometry_columns', 'spatial_ref_sys_aux', 'views_geometry_columns', 'virts_geometry_columns', 'geometry_columns_statistics', 'views_geometry_columns_statistics', 'virts_geometry_columns_statistics', 'geometry_columns_field_infos', 'views_geometry_columns_field_infos', 'virts_geometry_columns_field_infos', 'geometry_columns_time', 'geometry_columns_auth', 'views_geometry_columns_auth', 'virts_geometry_columns_auth', 'sql_statements_log', 'SpatialIndex', 'ElementaryGeometries', 'KNN', 'Fires', 'idx_Fires_Shape', 'idx_Fires_Shape_node', 'idx_Fires_Shape_rowid', 'idx_Fires_Shape_parent', 'NWCG_UnitIDActive_20170109']\n"
     ]
    }
   ],
   "source": [
    "tup_names = []\n",
    "table_names = []\n",
    "for row in cursor.execute(\"SELECT name FROM sqlite_master WHERE type='table';\"):\n",
    "    tup_names.append(row)\n",
    "\n",
    "for name in tup_names:\n",
    "    table_names.append(name[0])\n",
    "\n",
    "print(table_names)"
   ]
  },
  {
   "cell_type": "code",
   "execution_count": 29,
   "metadata": {},
   "outputs": [],
   "source": [
    "fire_table = pd.read_sql_query(\"SELECT * FROM Fires WHERE FIRE_SIZE_CLASS >= 'G' AND FIRE_YEAR >= 2014\", con)"
   ]
  },
  {
   "cell_type": "code",
   "execution_count": 30,
   "metadata": {},
   "outputs": [
    {
     "name": "stdout",
     "output_type": "stream",
     "text": [
      "<class 'pandas.core.frame.DataFrame'>\n",
      "RangeIndex: 395 entries, 0 to 394\n",
      "Data columns (total 39 columns):\n",
      "OBJECTID                      395 non-null int64\n",
      "FOD_ID                        395 non-null int64\n",
      "FPA_ID                        395 non-null object\n",
      "SOURCE_SYSTEM_TYPE            395 non-null object\n",
      "SOURCE_SYSTEM                 395 non-null object\n",
      "NWCG_REPORTING_AGENCY         395 non-null object\n",
      "NWCG_REPORTING_UNIT_ID        395 non-null object\n",
      "NWCG_REPORTING_UNIT_NAME      395 non-null object\n",
      "SOURCE_REPORTING_UNIT         395 non-null object\n",
      "SOURCE_REPORTING_UNIT_NAME    395 non-null object\n",
      "LOCAL_FIRE_REPORT_ID          142 non-null object\n",
      "LOCAL_INCIDENT_ID             139 non-null object\n",
      "FIRE_CODE                     349 non-null object\n",
      "FIRE_NAME                     394 non-null object\n",
      "ICS_209_INCIDENT_NUMBER       381 non-null object\n",
      "ICS_209_NAME                  381 non-null object\n",
      "MTBS_ID                       355 non-null object\n",
      "MTBS_FIRE_NAME                355 non-null object\n",
      "COMPLEX_NAME                  116 non-null object\n",
      "FIRE_YEAR                     395 non-null int64\n",
      "DISCOVERY_DATE                395 non-null float64\n",
      "DISCOVERY_DOY                 395 non-null int64\n",
      "DISCOVERY_TIME                386 non-null object\n",
      "STAT_CAUSE_CODE               395 non-null float64\n",
      "STAT_CAUSE_DESCR              395 non-null object\n",
      "CONT_DATE                     336 non-null float64\n",
      "CONT_DOY                      336 non-null float64\n",
      "CONT_TIME                     328 non-null object\n",
      "FIRE_SIZE                     395 non-null float64\n",
      "FIRE_SIZE_CLASS               395 non-null object\n",
      "LATITUDE                      395 non-null float64\n",
      "LONGITUDE                     395 non-null float64\n",
      "OWNER_CODE                    395 non-null float64\n",
      "OWNER_DESCR                   395 non-null object\n",
      "STATE                         395 non-null object\n",
      "COUNTY                        256 non-null object\n",
      "FIPS_CODE                     256 non-null object\n",
      "FIPS_NAME                     256 non-null object\n",
      "Shape                         395 non-null object\n",
      "dtypes: float64(8), int64(4), object(27)\n",
      "memory usage: 120.4+ KB\n",
      "None\n",
      "Index(['OBJECTID', 'FOD_ID', 'FPA_ID', 'SOURCE_SYSTEM_TYPE', 'SOURCE_SYSTEM',\n",
      "       'NWCG_REPORTING_AGENCY', 'NWCG_REPORTING_UNIT_ID',\n",
      "       'NWCG_REPORTING_UNIT_NAME', 'SOURCE_REPORTING_UNIT',\n",
      "       'SOURCE_REPORTING_UNIT_NAME', 'LOCAL_FIRE_REPORT_ID',\n",
      "       'LOCAL_INCIDENT_ID', 'FIRE_CODE', 'FIRE_NAME',\n",
      "       'ICS_209_INCIDENT_NUMBER', 'ICS_209_NAME', 'MTBS_ID', 'MTBS_FIRE_NAME',\n",
      "       'COMPLEX_NAME', 'FIRE_YEAR', 'DISCOVERY_DATE', 'DISCOVERY_DOY',\n",
      "       'DISCOVERY_TIME', 'STAT_CAUSE_CODE', 'STAT_CAUSE_DESCR', 'CONT_DATE',\n",
      "       'CONT_DOY', 'CONT_TIME', 'FIRE_SIZE', 'FIRE_SIZE_CLASS', 'LATITUDE',\n",
      "       'LONGITUDE', 'OWNER_CODE', 'OWNER_DESCR', 'STATE', 'COUNTY',\n",
      "       'FIPS_CODE', 'FIPS_NAME', 'Shape'],\n",
      "      dtype='object')\n",
      "(395, 39)\n"
     ]
    }
   ],
   "source": [
    "print(fire_table.info())\n",
    "print(fire_table.columns)\n",
    "#print(fire_table.describe)\n",
    "print(fire_table.shape)\n",
    "#print(fire_table.head())"
   ]
  },
  {
   "cell_type": "code",
   "execution_count": 31,
   "metadata": {},
   "outputs": [
    {
     "name": "stdout",
     "output_type": "stream",
     "text": [
      "       Total Fires\n",
      "STATE             \n",
      "AK             143\n",
      "OR              47\n",
      "CA              44\n",
      "ID              36\n",
      "WA              35\n",
      "MT              16\n",
      "AZ              16\n",
      "TX              12\n",
      "OK              11\n",
      "FL              10\n",
      "NM               6\n",
      "NV               6\n",
      "SD               3\n",
      "WY               2\n",
      "LA               2\n",
      "KS               2\n",
      "CO               2\n",
      "UT               1\n",
      "NE               1\n",
      "Total Fires    395\n",
      "dtype: int64\n"
     ]
    }
   ],
   "source": [
    "#Select relevant columns\n",
    "fire_table_focused = fire_table[['FOD_ID','SOURCE_SYSTEM_TYPE','SOURCE_SYSTEM','FIRE_YEAR','DISCOVERY_DATE','DISCOVERY_DOY','STAT_CAUSE_DESCR','CONT_DATE','CONT_DOY','FIRE_SIZE','FIRE_SIZE_CLASS','LATITUDE','LONGITUDE','OWNER_DESCR','STATE','COUNTY']]\n",
    "\n",
    "#Select STATE and unique identifier column\n",
    "by_state = fire_table_focused[['FOD_ID','STATE']]\n",
    "\n",
    "#Count fires by state to determine which State will have the most data to build a model from \n",
    "by_state_group = by_state.groupby(by='STATE').count().rename(columns={'FOD_ID':'Total Fires'})\n",
    "by_state_group = by_state_group.sort_values(by=['Total Fires'],ascending=False)\n",
    "\n",
    "print(by_state_group)\n",
    "print(by_state_group.sum())\n",
    "\n",
    "#CA has had 8455 fires since the year 2000 and has available historical weather data \n",
    "\n"
   ]
  },
  {
   "cell_type": "code",
   "execution_count": 32,
   "metadata": {},
   "outputs": [
    {
     "name": "stdout",
     "output_type": "stream",
     "text": [
      "COUNTY\n",
      "105         8\n",
      "Siskiyou    6\n",
      "015         4\n",
      "Shasta      3\n",
      "023         3\n",
      "Trinity     1\n",
      "017         1\n",
      "019         1\n",
      "065         1\n",
      "071         1\n",
      "073         1\n",
      "107         1\n",
      "Sonoma      1\n",
      "Inyo        1\n",
      "Lake        1\n",
      "Lassen      1\n",
      "Madera      1\n",
      "Modoc       1\n",
      "Napa        1\n",
      "003         1\n",
      "Name: FOD_ID, dtype: int64\n"
     ]
    }
   ],
   "source": [
    "#Select only data from CA\n",
    "ca_fires = fire_table_focused[fire_table_focused['STATE'] == 'CA']\n",
    "\n",
    "by_county_group = ca_fires.groupby('COUNTY').count()['FOD_ID'].sort_values(ascending=False)\n",
    "\n",
    "print(by_county_group)\n",
    "\n",
    "#Counties are labeled inconsistently"
   ]
  },
  {
   "cell_type": "code",
   "execution_count": 33,
   "metadata": {},
   "outputs": [],
   "source": [
    "#GOOGLE MAPS API for reverse geocoding missing counties\n",
    "import googlemaps\n",
    "from datetime import datetime\n",
    "import numpy as np\n",
    "\n",
    "gmaps = googlemaps.Client(key='API_KEY')\n",
    "\n",
    "\n",
    "#Create zipped list of coordinate tuples\n",
    "lat_list = []\n",
    "lon_list = []\n",
    "\n",
    "for row in ca_fires['LATITUDE']:\n",
    "    lat_list.append(row)\n",
    "\n",
    "for row in ca_fires['LONGITUDE']:\n",
    "    lon_list.append(row)\n",
    "    \n",
    "coords = list(zip(lat_list,lon_list))\n"
   ]
  },
  {
   "cell_type": "code",
   "execution_count": 34,
   "metadata": {},
   "outputs": [],
   "source": [
    "#Reverse geocode coordinates to retrieve county names\n",
    "county_names = []\n",
    "\n",
    "for row in coords:\n",
    "    county = gmaps.reverse_geocode(row,result_type='administrative_area_level_2')[0]['address_components'][0]['long_name']\n",
    "    county_names.append(county)\n"
   ]
  },
  {
   "cell_type": "code",
   "execution_count": 40,
   "metadata": {},
   "outputs": [
    {
     "name": "stdout",
     "output_type": "stream",
     "text": [
      "       COUNTY             GEO_COUNTY\n",
      "1    Siskiyou        Siskiyou County\n",
      "6    Siskiyou        Siskiyou County\n",
      "7    Siskiyou        Siskiyou County\n",
      "8      Shasta          Shasta County\n",
      "17   Siskiyou        Siskiyou County\n",
      "18   Siskiyou        Siskiyou County\n",
      "19   Siskiyou        Siskiyou County\n",
      "20     Shasta          Shasta County\n",
      "21    Trinity         Trinity County\n",
      "22     Madera          Madera County\n",
      "42     Shasta          Shasta County\n",
      "43      Modoc           Modoc County\n",
      "94        073       San Diego County\n",
      "95        065       Riverside County\n",
      "99        017       El Dorado County\n",
      "115       015       Del Norte County\n",
      "116       015       Del Norte County\n",
      "117       015       Del Norte County\n",
      "118       023        Humboldt County\n",
      "119       107          Tulare County\n",
      "132       105         Trinity County\n",
      "133       105         Trinity County\n",
      "134       105         Trinity County\n",
      "135       105         Trinity County\n",
      "136       105         Trinity County\n",
      "137       105         Trinity County\n",
      "138       019          Fresno County\n",
      "154       003          Alpine County\n",
      "155       023         Trinity County\n",
      "156       105         Trinity County\n",
      "157       023        Humboldt County\n",
      "158       015       Del Norte County\n",
      "159       071  San Bernardino County\n",
      "160       105         Trinity County\n",
      "266      Napa            Lake County\n",
      "267      Lake          Tehama County\n",
      "268      Inyo            Inyo County\n",
      "269    Sonoma            Napa County\n",
      "270    Lassen          Lassen County\n",
      "390      None            Napa County\n",
      "391      None          Amador County\n",
      "392      None          Madera County\n",
      "393      None            Lake County\n",
      "394      None       Mendocino County\n"
     ]
    }
   ],
   "source": [
    "#Check that geocoded counties match existing county names\n",
    "ca_fires.loc[:,'GEO_COUNTY'] = county_names\n",
    "print(ca_fires[['COUNTY','GEO_COUNTY']])"
   ]
  },
  {
   "cell_type": "code",
   "execution_count": 37,
   "metadata": {},
   "outputs": [
    {
     "name": "stdout",
     "output_type": "stream",
     "text": [
      "GEO_COUNTY\n",
      "Trinity County           10\n",
      "Siskiyou County           6\n",
      "Del Norte County          4\n",
      "Shasta County             3\n",
      "Lake County               2\n",
      "Napa County               2\n",
      "Humboldt County           2\n",
      "Madera County             2\n",
      "Tulare County             1\n",
      "Amador County             1\n",
      "El Dorado County          1\n",
      "Fresno County             1\n",
      "Inyo County               1\n",
      "Mendocino County          1\n",
      "Lassen County             1\n",
      "Modoc County              1\n",
      "Riverside County          1\n",
      "San Bernardino County     1\n",
      "San Diego County          1\n",
      "Tehama County             1\n",
      "Alpine County             1\n",
      "Name: FOD_ID, dtype: int64\n",
      "21\n"
     ]
    }
   ],
   "source": [
    "#Determine which counties have had the most fires\n",
    "by_county = ca_fires.groupby(by='GEO_COUNTY').count()['FOD_ID'].sort_values(ascending=False)\n",
    "print(by_county)\n",
    "\n",
    "#Check that number of counties does not exceed total counties in CA (58)\n",
    "print(by_county.index.nunique())"
   ]
  },
  {
   "cell_type": "code",
   "execution_count": null,
   "metadata": {},
   "outputs": [],
   "source": []
  }
 ],
 "metadata": {
  "kernelspec": {
   "display_name": "Python 3",
   "language": "python",
   "name": "python3"
  },
  "language_info": {
   "codemirror_mode": {
    "name": "ipython",
    "version": 3
   },
   "file_extension": ".py",
   "mimetype": "text/x-python",
   "name": "python",
   "nbconvert_exporter": "python",
   "pygments_lexer": "ipython3",
   "version": "3.7.1"
  }
 },
 "nbformat": 4,
 "nbformat_minor": 2
}
