{
 "cells": [
  {
   "cell_type": "markdown",
   "metadata": {},
   "source": [
    "# Capstone Project 1: Project Proposal"
   ]
  },
  {
   "cell_type": "markdown",
   "metadata": {},
   "source": [
    "**Title**: Predicting the size of Wildfires in California\n",
    "\n",
    "**Problem**: The frequency and size of wildfires in the California region have increased dramatically in the past few decades, destroying hundreds of thousands of acres annually and posing an extreme hazard for inhabitants, infrastructure, and ecosystems alike. As these potentially catastrophic events become more common, the need for analytical models that can predict specific aspects of a fire's destructive potential (such as size and duration) become increasingly vital to combatment efforts. Additionally, better understanding of a fire's potential size would give local and national emergency management agencies more time to issue evacuation notices to communities in danger of being affected. Using detailed weather data from the most affected regions in California alongside the record of all U.S. wildfires from the Fire Program Analysis fire-occurrence database (FPA FOD), the goal is to create predictive model capable of estimating the likely size of a given wildfire in terms of total acres burned as a function of several combined weather and climate conditions. \n",
    "\n",
    "**Stakeholders**: There are two primary stakeholder groups that would benefit substantially from the prediction of wildfire size. The first is comprised of anyone living in or near wildfire-affected areas. More accurate projections of a wildfire's size would allow state and local governments to issue pre-emptive evacuation warnings to communitites within the fire's projected radius, giving vital minutes, hours, or days for residents to reach safety. \n",
    "\n",
    "The second group consists of state and local governments themselves. Millions of government dollars are poured into fighting wildfires and rebuilding the homes and buildings they destroy. The sooner containment efforts and resources can be marshalled to combat these threats, the more likely they can be contained or reduced in time to mitigate the damage they inflict on a community's infrastructure. \n",
    "\n",
    "**Data**: The data for this model will be pulled from two sources. The first is a SQLite database containing information on U.S. wildfires since 1992, including the fire's initial cause, discovery date, containment date, geographic location, size category, and total size. The second source is a CSV-formatted California weather database from the University of California's Statewide Integrated Pest Management Program, which contains detailed weather data from a variety of stations in each county including daily historical recordings of maximum and minimum air temperature, wind speed, relative humidity, and solar irradiance. \n",
    "\n",
    "**Modeling Approach**: Since we want to predict the change in mean fire size based on several atmospheric variables, it would be appropriate to use a multiple linear regression. This will allow us to gauge the level of influence, if any, those variables have on a fire's ultimate footprint and quantify the effect of certain combinations of variables have on a fire's expected size. \n",
    "\n",
    "**Challenges**: There are several challenges apparent in this exercise, the first of which has to do with wrangling and cleaning the fire and weather data. In the fire data, county data is largely missing or inconsistenly recorded, which makes matching each fire to it's local county weather data more difficult. Latitude and Longitude data is present for all entries so it may be possible to reverse geocode the location of each fire to retrieve it's relevant weather information, however this might present further challenges. The second wrangling problem is that retrieving weather data for each of California's 52 counties will be time-consuming, since the historic weather data for each county is stored on separate web pages.\n",
    "\n",
    "Concerning the model itself, one of the major challenges will be determining how best to leverage the weather data to determine the size of the fire. A fire's initial combustion and it's likelihood of spreading to surrounding areas is most likely the effect of extended periods of heat and dryness more than it is the result of a single hot day. Determining the best way to define average weather conditions before a fire over an appropriate window of time will require deeper investigation into the data.\n",
    "\n",
    "**Deliverables**: The deliverables for this Capstone Project will include the following:\n",
    "                    1. Codes (Notebooks) for:\n",
    "                        a. Data Acquisition\n",
    "                        b. Data Cleaning\n",
    "                        c. Data Exploration Analysis\n",
    "                        d. Machine Learning Model Development\n",
    "                    2. Capstone Project Final Report\n",
    "                    3. Capstone Project Final Presentation"
   ]
  },
  {
   "cell_type": "code",
   "execution_count": null,
   "metadata": {},
   "outputs": [],
   "source": []
  }
 ],
 "metadata": {
  "kernelspec": {
   "display_name": "Python 3",
   "language": "python",
   "name": "python3"
  },
  "language_info": {
   "codemirror_mode": {
    "name": "ipython",
    "version": 3
   },
   "file_extension": ".py",
   "mimetype": "text/x-python",
   "name": "python",
   "nbconvert_exporter": "python",
   "pygments_lexer": "ipython3",
   "version": "3.7.1"
  }
 },
 "nbformat": 4,
 "nbformat_minor": 2
}
